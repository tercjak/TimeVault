{
 "cells": [
  {
   "cell_type": "code",
   "execution_count": 4,
   "id": "c6ced423-c99a-4091-9b34-1720a4a2a0c1",
   "metadata": {},
   "outputs": [
    {
     "name": "stderr",
     "output_type": "stream",
     "text": [
      "E\n",
      "======================================================================\n",
      "ERROR: C:\\Users\\Konrad\\AppData\\Roaming\\jupyter\\runtime\\kernel-af9817e0-8aeb-4dbc-a8f2-303f697178d4 (unittest.loader._FailedTest.C:\\Users\\Konrad\\AppData\\Roaming\\jupyter\\runtime\\kernel-af9817e0-8aeb-4dbc-a8f2-303f697178d4)\n",
      "----------------------------------------------------------------------\n",
      "AttributeError: module '__main__' has no attribute 'C:\\Users\\Konrad\\AppData\\Roaming\\jupyter\\runtime\\kernel-af9817e0-8aeb-4dbc-a8f2-303f697178d4'\n",
      "\n",
      "----------------------------------------------------------------------\n",
      "Ran 1 test in 0.001s\n",
      "\n",
      "FAILED (errors=1)\n"
     ]
    },
    {
     "ename": "SystemExit",
     "evalue": "1",
     "output_type": "error",
     "traceback": [
      "An exception has occurred, use %tb to see the full traceback.\n",
      "\u001b[1;31mSystemExit\u001b[0m\u001b[1;31m:\u001b[0m 1\n"
     ]
    },
    {
     "name": "stderr",
     "output_type": "stream",
     "text": [
      "G:\\python312\\Lib\\site-packages\\IPython\\core\\interactiveshell.py:3585: UserWarning: To exit: use 'exit', 'quit', or Ctrl-D.\n",
      "  warn(\"To exit: use 'exit', 'quit', or Ctrl-D.\", stacklevel=1)\n"
     ]
    }
   ],
   "source": [
    "import datetime\n",
    "import json\n",
    "def compare_timeranges(timerange1, timerange2):\n",
    "    # Check if time ranges overlap\n",
    "    if timerange1['start_time'] <= timerange2['end_time'] and timerange1['end_time'] >= timerange2['start_time']:\n",
    "        return 'Overlapping'\n",
    "\n",
    "    # Identify the larger time range\n",
    "    larger_timerange = max(timerange1, timerange2, key=lambda x: x['end_time'] - x['start_time'])\n",
    "\n",
    "    # Return partial retrieval interval covering the uncovered portion of the larger range\n",
    "    partial_timerange = {\n",
    "        'start_time': larger_timerange['end_time'] + 1,\n",
    "        'end_time': larger_timerange['end_time'] + 10  # Example value\n",
    "    }\n",
    "    return partial_timerange\n",
    "\n",
    "\n",
    "import unittest\n",
    "from datetime import datetime\n",
    "\n",
    "# import your_module  # Replace with the path to your module containing the compare_timeranges function\n",
    "\n",
    "\n",
    "class TestCompareTimeranges(unittest.TestCase):\n",
    "\n",
    "    def test_overlapping_ranges(self):\n",
    "        timerange1 = {'start_time': datetime(2024, 7, 10), 'end_time': datetime(2024, 7, 20)}\n",
    "        timerange2 = {'start_time': datetime(2024, 7, 15), 'end_time': datetime(2024, 7, 25)}\n",
    "\n",
    "        expected_result = 'Overlapping'\n",
    "        actual_result = compare_timeranges(timerange1, timerange2)\n",
    "\n",
    "        self.assertEqual(expected_result, actual_result)\n",
    "\n",
    "    def test_larger_first_range(self):\n",
    "        timerange1 = {'start_time': datetime(2024, 7, 5), 'end_time': datetime(2024, 7, 25)}\n",
    "        timerange2 = {'start_time': datetime(2024, 7, 10), 'end_time': datetime(2024, 7, 20)}\n",
    "\n",
    "        expected_result = {'start_time': datetime(2024, 7, 25) + 1, 'end_time': datetime(2024, 7, 25) + 10}\n",
    "        actual_result = compare_timeranges(timerange1, timerange2)\n",
    "\n",
    "        self.assertEqual(expected_result, actual_result)\n",
    "\n",
    "    def test_larger_second_range(self):\n",
    "        timerange1 = {'start_time': datetime(2024, 7, 10), 'end_time': datetime(2024, 7, 20)}\n",
    "        timerange2 = {'start_time': datetime(2024, 7, 15), 'end_time': datetime(2024, 7, 25)}\n",
    "\n",
    "        expected_result = {'start_time': datetime(2024, 7, 20) + 1, 'end_time': datetime(2024, 7, 20) + 10}\n",
    "        actual_result =compare_timeranges(timerange1, timerange2)\n",
    "\n",
    "        self.assertEqual(expected_result, actual_result)\n",
    "\n",
    "    def test_non_overlapping_ranges(self):\n",
    "        timerange1 = {'start_time': datetime(2024, 7, 1), 'end_time': datetime(2024, 7, 5)}\n",
    "        timerange2 = {'start_time': datetime(2024, 7, 10), 'end_time': datetime(2024, 7, 15)}\n",
    "\n",
    "        expected_result = {'start_time': datetime(2024, 7, 5) + 1, 'end_time': datetime(2024, 7, 5) + 10}\n",
    "        actual_result = compare_timeranges(timerange1, timerange2)\n",
    "\n",
    "        self.assertEqual(expected_result, actual_result)\n",
    "\n",
    "if __name__ == '__main__':\n",
    "    unittest.main()\n",
    "    "
   ]
  },
  {
   "cell_type": "code",
   "execution_count": null,
   "id": "59f5a686-9b5c-4344-8859-b44ae35504d5",
   "metadata": {},
   "outputs": [],
   "source": []
  }
 ],
 "metadata": {
  "kernelspec": {
   "display_name": "Python 3 (ipykernel)",
   "language": "python",
   "name": "python3"
  },
  "language_info": {
   "codemirror_mode": {
    "name": "ipython",
    "version": 3
   },
   "file_extension": ".py",
   "mimetype": "text/x-python",
   "name": "python",
   "nbconvert_exporter": "python",
   "pygments_lexer": "ipython3",
   "version": "3.12.4"
  }
 },
 "nbformat": 4,
 "nbformat_minor": 5
}
